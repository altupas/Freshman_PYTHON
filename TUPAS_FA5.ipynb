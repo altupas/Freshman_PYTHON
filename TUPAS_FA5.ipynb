{
  "nbformat": 4,
  "nbformat_minor": 0,
  "metadata": {
    "colab": {
      "provenance": [],
      "authorship_tag": "ABX9TyMAAzdRjISVkkqcRF1mkMdd",
      "include_colab_link": true
    },
    "kernelspec": {
      "name": "python3",
      "display_name": "Python 3"
    },
    "language_info": {
      "name": "python"
    }
  },
  "cells": [
    {
      "cell_type": "markdown",
      "metadata": {
        "id": "view-in-github",
        "colab_type": "text"
      },
      "source": [
        "<a href=\"https://colab.research.google.com/github/altupas/FA1_TUPAS-ALDRIN-A./blob/main/FA5_TupasAldrin.ipynb\" target=\"_parent\"><img src=\"https://colab.research.google.com/assets/colab-badge.svg\" alt=\"Open In Colab\"/></a>"
      ]
    },
    {
      "cell_type": "code",
      "source": [
        "import turtle\n",
        "import math\n",
        "\n",
        "def draw_fence(radius):\n",
        "    turtle.penup()\n",
        "    turtle.goto(0, -radius)\n",
        "    turtle.pendown()\n",
        "    turtle.circle(radius)\n",
        "\n",
        "def distance(x, y):\n",
        "    return math.sqrt(x ** 2 + y ** 2)\n",
        "\n",
        "def bounce_off_fence(turtle, radius):\n",
        "    x, y = turtle.position()\n",
        "    distance_to_center = distance(x, y)\n",
        "    if distance_to_center > radius:\n",
        "        angle = math.atan2(y, x)\n",
        "        turtle.setheading(math.degrees(-angle))\n",
        "        turtle.forward(distance_to_center - radius)\n",
        "\n",
        "def main():\n",
        "    radius = 100\n",
        "    turtle.speed(0)\n",
        "    draw_fence(radius)\n",
        "\n",
        "    my_turtle = turtle.Turtle()\n",
        "    my_turtle.speed(1)\n",
        "\n",
        "    while True:\n",
        "        my_turtle.forward(10)\n",
        "        bounce_off_fence(my_turtle, radius)\n",
        "\n",
        "    turtle.done()"
      ],
      "metadata": {
        "id": "kSJ_dD0yJch9"
      },
      "execution_count": null,
      "outputs": []
    },
    {
      "cell_type": "code",
      "source": [
        "from google.colab import drive\n",
        "drive.mount('/content/drive')"
      ],
      "metadata": {
        "id": "t5r6MUqWMedn"
      },
      "execution_count": null,
      "outputs": []
    }
  ]
}