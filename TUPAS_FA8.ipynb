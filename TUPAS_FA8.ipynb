{
 "cells": [
  {
   "cell_type": "code",
   "execution_count": 8,
   "id": "46b6b8b3",
   "metadata": {},
   "outputs": [
    {
     "name": "stdout",
     "output_type": "stream",
     "text": [
      "Enter the base: 5\n",
      "Enter the exponent: 5\n",
      "Iterative result: 3125, Time: 0.000848 seconds\n",
      "Recursive result: 3125, Time: 0.000000 seconds\n"
     ]
    }
   ],
   "source": [
    "import time\n",
    "\n",
    "def iterative_exponent(base, exponent):\n",
    "    result = 1\n",
    "    for _ in range(abs(exponent)):\n",
    "        result *= base\n",
    "    if exponent < 0:\n",
    "        return 1 / result\n",
    "    return result\n",
    "\n",
    "def recursive_exponent(base, exponent):\n",
    "    if exponent == 0:\n",
    "        return 1\n",
    "    elif exponent < 0:\n",
    "        return 1 / recursive_exponent(base, -exponent)\n",
    "    else:\n",
    "        return base * recursive_exponent(base, exponent - 1)\n",
    "\n",
    "base = int(input(\"Enter the base: \"))\n",
    "exponent = int(input(\"Enter the exponent: \"))\n",
    "\n",
    "start_time = time.time()\n",
    "iterative_result = iterative_exponent(base, exponent)\n",
    "end_time = time.time()\n",
    "iterative_time = end_time - start_time\n",
    "\n",
    "start_time = time.time()\n",
    "recursive_result = recursive_exponent(base, exponent)\n",
    "end_time = time.time()\n",
    "recursive_time = end_time - start_time\n",
    "\n",
    "print(f\"Iterative result: {iterative_result}, Time: {iterative_time:.6f} seconds\")\n",
    "print(f\"Recursive result: {recursive_result}, Time: {recursive_time:.6f} seconds\")"
   ]
  },
  {
   "cell_type": "code",
   "execution_count": 13,
   "id": "1c838e9c",
   "metadata": {},
   "outputs": [
    {
     "name": "stdout",
     "output_type": "stream",
     "text": [
      "Enter the value of n: 27\n",
      "Iterative result: 268435455, Time: 0.000000 seconds\n",
      "Recursive result: 268435455, Time: 0.000000 seconds\n"
     ]
    }
   ],
   "source": [
    "import time\n",
    "\n",
    "def iterative_sum_powers(n):\n",
    "    sum = 0\n",
    "    for i in range(n + 1):\n",
    "        sum += 2 ** i\n",
    "    return sum\n",
    "\n",
    "def recursive_sum_powers(n):\n",
    "    if n == 0:\n",
    "        return 1\n",
    "    else:\n",
    "        return 2 ** n + recursive_sum_powers(n - 1)\n",
    "\n",
    "n = int(input(\"Enter the value of n: \"))\n",
    "\n",
    "start_time = time.time()\n",
    "iterative_result = iterative_sum_powers(n)\n",
    "end_time = time.time()\n",
    "iterative_time = end_time - start_time\n",
    "\n",
    "start_time = time.time()\n",
    "recursive_result = recursive_sum_powers(n)\n",
    "end_time = time.time()\n",
    "recursive_time = end_time - start_time\n",
    "\n",
    "print(f\"Iterative result: {iterative_result}, Time: {iterative_time:.6f} seconds\")\n",
    "print(f\"Recursive result: {recursive_result}, Time: {recursive_time:.6f} seconds\")"
   ]
  }
 ],
 "metadata": {
  "kernelspec": {
   "display_name": "Python 3 (ipykernel)",
   "language": "python",
   "name": "python3"
  },
  "language_info": {
   "codemirror_mode": {
    "name": "ipython",
    "version": 3
   },
   "file_extension": ".py",
   "mimetype": "text/x-python",
   "name": "python",
   "nbconvert_exporter": "python",
   "pygments_lexer": "ipython3",
   "version": "3.11.5"
  }
 },
 "nbformat": 4,
 "nbformat_minor": 5
}
