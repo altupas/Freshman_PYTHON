{
 "cells": [
  {
   "cell_type": "code",
   "execution_count": 2,
   "id": "042dcf72",
   "metadata": {},
   "outputs": [
    {
     "name": "stdout",
     "output_type": "stream",
     "text": [
      "            count      mean  std       min       25%       50%       75%  \\\n",
      "Position                                                                   \n",
      "Assoc Prof   50.0   90000.0  0.0   90000.0   90000.0   90000.0   90000.0   \n",
      "AsstProf     50.0   80000.0  0.0   80000.0   80000.0   80000.0   80000.0   \n",
      "Prof         50.0  120000.0  0.0  120000.0  120000.0  120000.0  120000.0   \n",
      "\n",
      "                 max  \n",
      "Position              \n",
      "Assoc Prof   90000.0  \n",
      "AsstProf     80000.0  \n",
      "Prof        120000.0  \n"
     ]
    }
   ],
   "source": [
    "import numpy as np\n",
    "import pandas as pd\n",
    "\n",
    "data = {'Position': ['Assoc Prof', 'AsstProf', 'Prof'] * 50,\n",
    "        'salary': [90000, 80000, 120000] * 50}\n",
    "data['Valid'] = np.ones(150)\n",
    "data['Missing'] = np.zeros(150)\n",
    "\n",
    "df = pd.DataFrame(data)\n",
    "\n",
    "stats = df.groupby('Position')['salary'].describe()\n",
    "print(stats)"
   ]
  }
 ],
 "metadata": {
  "kernelspec": {
   "display_name": "Python 3 (ipykernel)",
   "language": "python",
   "name": "python3"
  },
  "language_info": {
   "codemirror_mode": {
    "name": "ipython",
    "version": 3
   },
   "file_extension": ".py",
   "mimetype": "text/x-python",
   "name": "python",
   "nbconvert_exporter": "python",
   "pygments_lexer": "ipython3",
   "version": "3.11.5"
  }
 },
 "nbformat": 4,
 "nbformat_minor": 5
}
