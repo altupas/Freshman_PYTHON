{
  "nbformat": 4,
  "nbformat_minor": 0,
  "metadata": {
    "colab": {
      "provenance": [],
      "authorship_tag": "ABX9TyOV8p40xjpdlBZcqlrdWwKJ",
      "include_colab_link": true
    },
    "kernelspec": {
      "name": "python3",
      "display_name": "Python 3"
    },
    "language_info": {
      "name": "python"
    }
  },
  "cells": [
    {
      "cell_type": "markdown",
      "metadata": {
        "id": "view-in-github",
        "colab_type": "text"
      },
      "source": [
        "<a href=\"https://colab.research.google.com/github/altupas/FA1_TUPAS-ALDRIN-A./blob/main/SA_1_TUPAS.ipynb\" target=\"_parent\"><img src=\"https://colab.research.google.com/assets/colab-badge.svg\" alt=\"Open In Colab\"/></a>"
      ]
    },
    {
      "cell_type": "code",
      "source": [
        "def select_word():\n",
        "   def get_guess():\n",
        "    return random.choice(words)\n",
        "def display_word(word, guessed_letters):\n",
        "    display_word = 'Handsome'\n",
        "    for letter in word:\n",
        "        if letter in guessed_letters:\n",
        "            display_word += letter + 'Correct'\n",
        "        else:\n",
        "            display_word += 'Wrong'\n",
        "    return display_word"
      ],
      "metadata": {
        "id": "aNxasNWMy3bJ"
      },
      "execution_count": null,
      "outputs": []
    },
    {
      "cell_type": "code",
      "source": [
        "import time\n",
        "\n",
        "start_time = time.time()\n",
        "\n",
        "def fibonacci_iterative(n):\n",
        "    fib_sequence = [0, 1]\n",
        "    for i in range(2, n+1):\n",
        "        fib_sequence.append(fib_sequence[i-1] + fib_sequence[i-2])\n",
        "    return fib_sequence\n",
        "\n",
        "def fibonacci_recursive(n):\n",
        "    if n <= 1:\n",
        "        return n\n",
        "    else:\n",
        "        return fibonacci_recursive(n-1) + fibonacci_recursive(n-2)\n",
        "\n",
        "n = 10\n",
        "fib_sequence = fibonacci_iterative(n)\n",
        "fib_sequence = [fibonacci_recursive(i) for i in range(n)]\n",
        "\n",
        "print(f\"Fibonacci sequence (iterative) of length {n}: {fib_sequence}\")\n",
        "print(f\"Time taken: {time.time() - start_time:.10f} seconds\")\n",
        "\n",
        "print(f\"Fibonacci sequence (recursive) of length {n}: {fib_sequence}\")\n",
        "print(f\"Time taken: {time.time() - start_time:.10f} seconds\")"
      ],
      "metadata": {
        "colab": {
          "base_uri": "https://localhost:8080/"
        },
        "id": "jGiKPGuF8imT",
        "outputId": "a9158975-ecca-47f8-dbfe-55fbbbed82e1"
      },
      "execution_count": null,
      "outputs": [
        {
          "output_type": "stream",
          "name": "stdout",
          "text": [
            "Fibonacci sequence (iterative) of length 10: [0, 1, 1, 2, 3, 5, 8, 13, 21, 34]\n",
            "Time taken: 0.0016393661 seconds\n",
            "Fibonacci sequence (recursive) of length 10: [0, 1, 1, 2, 3, 5, 8, 13, 21, 34]\n",
            "Time taken: 0.0018544197 seconds\n"
          ]
        }
      ]
    },
    {
      "cell_type": "code",
      "source": [
        "def find_solution(x0, tolerance=1e-3):\n",
        "    x = x0\n",
        "    while True:\n",
        "        x_next = x**3 + 5*x\n",
        "        diff = abs(x)"
      ],
      "metadata": {
        "id": "ZQz_XeGw7JkQ"
      },
      "execution_count": null,
      "outputs": []
    }
  ]
}