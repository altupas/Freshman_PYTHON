{
 "cells": [
  {
   "cell_type": "code",
   "execution_count": 2,
   "id": "ed8e4c55",
   "metadata": {},
   "outputs": [
    {
     "name": "stdout",
     "output_type": "stream",
     "text": [
      "2562\n"
     ]
    }
   ],
   "source": [
    "minutes = 42\n",
    "seconds = 42\n",
    "total_seconds = minutes * 60 + seconds\n",
    "print(total_seconds)"
   ]
  },
  {
   "cell_type": "code",
   "execution_count": 9,
   "id": "2ef0504e",
   "metadata": {},
   "outputs": [
    {
     "name": "stdout",
     "output_type": "stream",
     "text": [
      "10 kilometers are equal to 6.21 miles\n"
     ]
    }
   ],
   "source": [
    "# conversion_factor = 1.61\n",
    "kilometers = 10\n",
    "miles = kilometers / conversion_factor\n",
    "print(f\"{kilometers} kilometers are equal to {miles:.2f} miles\")"
   ]
  },
  {
   "cell_type": "code",
   "execution_count": 10,
   "id": "71f91ef3",
   "metadata": {},
   "outputs": [
    {
     "name": "stdout",
     "output_type": "stream",
     "text": [
      "Average pace: 6 minutes and 8.731208430913348 seconds per mile\n",
      "Average speed: 8.73 miles per hour\n"
     ]
    }
   ],
   "source": [
    "dist = 10\n",
    "t_m = 42\n",
    "t_s = 42\n",
    "t_m_s=t_s + t_m * 60\n",
    "\n",
    "dist_miles = dist * 0.621371\n",
    "\n",
    "a_p = t_m_s / dist_miles\n",
    "a_m = int(a_p// 60)\n",
    "a_s = int(a_p % 60)\n",
    "\n",
    "a_s = dist_miles / (t_m_s / 3600)\n",
    "\n",
    "print(f'Average pace: {a_m} minutes and {a_s} seconds per mile')\n",
    "print(f'Average speed: {a_s:.2f} miles per hour')"
   ]
  }
 ],
 "metadata": {
  "kernelspec": {
   "display_name": "Python 3 (ipykernel)",
   "language": "python",
   "name": "python3"
  },
  "language_info": {
   "codemirror_mode": {
    "name": "ipython",
    "version": 3
   },
   "file_extension": ".py",
   "mimetype": "text/x-python",
   "name": "python",
   "nbconvert_exporter": "python",
   "pygments_lexer": "ipython3",
   "version": "3.11.5"
  }
 },
 "nbformat": 4,
 "nbformat_minor": 5
}
