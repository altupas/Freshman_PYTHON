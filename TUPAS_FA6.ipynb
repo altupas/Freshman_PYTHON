{
 "cells": [
  {
   "cell_type": "markdown",
   "id": "d7bffdc4",
   "metadata": {},
   "source": [
    "1. Write a function named ack that evaluates the Ackermann function. Use your function to evaluate ack(2,4). What happens for larger values of m and n?\n"
   ]
  },
  {
   "cell_type": "code",
   "execution_count": 8,
   "id": "9c7ad620",
   "metadata": {},
   "outputs": [
    {
     "name": "stdout",
     "output_type": "stream",
     "text": [
      "11\n"
     ]
    }
   ],
   "source": [
    "def ack(m, n):\n",
    "    if m == 0:\n",
    "        return n + 1\n",
    "    elif n == 0:\n",
    "        return ack(m - 1, 1)\n",
    "    else:\n",
    "        return ack(m - 1, ack(m, n - 1))\n",
    "\n",
    "print(ack(2, 4))"
   ]
  },
  {
   "cell_type": "markdown",
   "id": "ca0be151",
   "metadata": {},
   "source": [
    "2. A number, a is a power of b if it is divisible by b and a/b is a power of b. Write a function called is_power that takes parameters a and b and returns True if a is a power of b. Note: you will have to think about a base case. (Note: It should work with float.)\n"
   ]
  },
  {
   "cell_type": "code",
   "execution_count": 7,
   "id": "779cc145",
   "metadata": {},
   "outputs": [
    {
     "name": "stdout",
     "output_type": "stream",
     "text": [
      "True\n"
     ]
    }
   ],
   "source": [
    "def is_power(a, b):\n",
    "    if a == b:\n",
    "        return True\n",
    "    elif b == 1 or a % b !=0:\n",
    "        return False\n",
    "    else:\n",
    "        return is_power(a / b, b)\n",
    "\n",
    "print(is_power(16,2))"
   ]
  },
  {
   "cell_type": "code",
   "execution_count": null,
   "id": "7f72c17b",
   "metadata": {},
   "outputs": [],
   "source": []
  }
 ],
 "metadata": {
  "kernelspec": {
   "display_name": "Python 3 (ipykernel)",
   "language": "python",
   "name": "python3"
  },
  "language_info": {
   "codemirror_mode": {
    "name": "ipython",
    "version": 3
   },
   "file_extension": ".py",
   "mimetype": "text/x-python",
   "name": "python",
   "nbconvert_exporter": "python",
   "pygments_lexer": "ipython3",
   "version": "3.9.13"
  }
 },
 "nbformat": 4,
 "nbformat_minor": 5
}
