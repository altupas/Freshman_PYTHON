{
  "nbformat": 4,
  "nbformat_minor": 0,
  "metadata": {
    "colab": {
      "provenance": [],
      "authorship_tag": "ABX9TyP/9esY+9FDLiQ6jtUDoZ1v",
      "include_colab_link": true
    },
    "kernelspec": {
      "name": "python3",
      "display_name": "Python 3"
    },
    "language_info": {
      "name": "python"
    }
  },
  "cells": [
    {
      "cell_type": "markdown",
      "metadata": {
        "id": "view-in-github",
        "colab_type": "text"
      },
      "source": [
        "<a href=\"https://colab.research.google.com/github/altupas/Toofast_27/blob/main/Tupas_SA2.ipynb\" target=\"_parent\"><img src=\"https://colab.research.google.com/assets/colab-badge.svg\" alt=\"Open In Colab\"/></a>"
      ]
    },
    {
      "cell_type": "code",
      "source": [
        "import pandas as pd\n",
        "import matplotlib.pyplot as plt\n",
        "\n",
        "# Load the dataset\n",
        "data = pd.read_csv('amazon.csv', encoding='ISO-8859-1')\n",
        "\n",
        "# Display top 10 rows\n",
        "print(data.head(10))\n",
        "\n",
        "# Check last 10 rows\n",
        "print(data.tail(10))\n",
        "\n",
        "# Get shape of the dataset\n",
        "print(data.shape)\n",
        "\n",
        "# Get information about the dataset\n",
        "print(data.info())\n",
        "\n",
        "# Check for duplicate data and drop them\n",
        "data = data.drop_duplicates()\n",
        "\n",
        "# Check null values in the dataset\n",
        "print(data.isnull().sum())\n",
        "\n",
        "# Get overall statistics about the dataframe\n",
        "print(data.describe())\n",
        "\n",
        "# Rename month names to English\n",
        "data['mes'] = data['mes'].replace(['Janeiro', 'Fevereiro', 'Março', 'Abril', 'Maio', 'Junho', 'Julho', 'Agosto', 'Setembro', 'Outubro', 'Novembro', 'Dezembro'], ['January', 'February', 'March', 'April', 'May', 'June', 'July', 'August', 'September', 'October', 'November', 'December'])\n",
        "\n",
        "# Get the total number of fires registered\n",
        "total_fires = data['num_incendios'].sum()\n",
        "print(f\"Total number of forest fires: {total_fires}\")\n",
        "\n",
        "# In which month maximum number of forest fires were reported?\n",
        "month_max_fires = data['num_incendios'].idxmax()\n",
        "print(f\"Month with maximum number of forest fires: {data.loc[month_max_fires, 'mes']}\")\n",
        "\n",
        "# In which year maximum number of forest fires was reported?\n",
        "year_max_fires = data['ano'].loc[month_max_fires]\n",
        "print(f\"Year with maximum number of forest fires: {year_max_fires}\")\n",
        "\n",
        "# In which state maximum number of forest fires was reported?\n",
        "state_max_fires = data['uf'].loc[month_max_fires]\n",
        "print(f\"State with maximum number of forest fires: {state_max_fires}\")\n",
        "\n",
        "# Get total number of fires were reported in Amazonas\n",
        "amazonas_fires = data[data['uf'] == 'Tocantins']['num_incendios'].sum()\n",
        "print(f\"Total number of forest fires in Amazonas: {amazonas_fires}\")\n",
        "\n",
        "# Display number of fires were reported in Amazonas (year-wise)\n",
        "print(data[data['uf'] == 'Tocantins'].groupby('ano')['num_incendios'].sum())\n",
        "\n",
        "# Display number of fires were reported in Amazonas (day-wise)\n",
        "print(data[data['uf'] == 'Tocantins'].groupby('dia')['num_incendios'].sum())\n",
        "\n",
        "# Find total number of fires were reported in 2015 and visualize data based on each ‘month’\n",
        "fires_2015 = data[data['ano'] == 2015]['num_incendios'].tolist()\n",
        "plt.figure(figsize=(12, 6))\n",
        "plt.plot(range(1, 13), fires_2015)\n",
        "plt.xlabel('Month')\n",
        "plt.ylabel('Number of Forest Fires')\n",
        "plt.title('Forest Fires in Brazil in 2015')\n",
        "plt.xticks(range(1, 13), ['January', 'February', 'March', 'April', 'May', 'June', 'July', 'August', 'September', 'October', 'November', 'December'])\n",
        "plt.show()\n",
        "\n",
        "# Find average number of fires were reported from highest to lowest (state-wise)\n",
        "data['incendios_media'] = data['num_incendios'].rolling(window=5).mean()\n",
        "states_sorted_by_avg_fires = data.groupby('uf')['incendios_media'].mean().sort_values(ascending=False)\n",
        "print(states_sorted_by_avg_fires)\n",
        "\n",
        "# Find the state names where fires were reported in 'dec' month\n",
        "states_with_fires_in_dec = data[data]"
      ],
      "metadata": {
        "id": "-BZOafodWdDw"
      },
      "execution_count": null,
      "outputs": []
    },
    {
      "cell_type": "markdown",
      "source": [
        "1. How many movies are released each year? What is the percentage of change over time?"
      ],
      "metadata": {
        "id": "-8nASEGFcBpT"
      }
    },
    {
      "cell_type": "code",
      "source": [
        "import pandas as pd\n",
        "import matplotlib.pyplot as plt\n",
        "\n",
        "movies = pd.read_csv('movies.csv')\n",
        "movies[1986,1999,1994,2008,1993] = movies['Castle in the sky,Taboo,Fist of legend,Ip man,Ninja scroll'].str.extract(r'\\((\\d{4})\\)', expand=False).astype(int)\n",
        "\n",
        "release_year_counts = movies[1986,1999,1994,2008,1993].value_counts()\n",
        "\n",
        "plt.figure(figsize=(10, 6))\n",
        "release_year_counts.plot(kind='bar')\n",
        "plt.title(1)\n",
        "plt.xlabel(1)\n",
        "plt.ylabel(5)\n",
        "plt.show()"
      ],
      "metadata": {
        "collapsed": true,
        "id": "puZddlDhZsxF"
      },
      "execution_count": null,
      "outputs": []
    },
    {
      "cell_type": "markdown",
      "source": [
        "2.\n",
        "What are the most popular genre of movies?"
      ],
      "metadata": {
        "id": "X3uJP3_BcqAG"
      }
    },
    {
      "cell_type": "code",
      "source": [
        "genres = movies[horror, action, drama, comedy, romance].str.split('|', expand=True).stack().reset_index(drop=True)\n",
        "\n",
        "genre_counts = genres.value_counts(5)\n",
        "\n",
        "plt.figure(figsize=(10, 6))\n",
        "genre_counts.plot(kind='bar')\n",
        "plt.title(Action)\n",
        "plt.xlabel(5)\n",
        "plt.ylabel(5)\n",
        "plt.show()"
      ],
      "metadata": {
        "id": "f6DvFa74nQR6"
      },
      "execution_count": null,
      "outputs": []
    },
    {
      "cell_type": "markdown",
      "source": [
        "3. Does the taste of movies changes over time?"
      ],
      "metadata": {
        "id": "pE126FM5o8iP"
      }
    },
    {
      "cell_type": "code",
      "source": [
        "\n",
        "ratings = pd.read_csv('ratings.csv')\n",
        "movies_ratings = pd.merge(ratings, movies, on='movieId')\n",
        "\n",
        "avg_ratings_over_time = movies_ratings.groupby([1986,1999,1994,2008,1993, 'movieId'])[G,SPG,PG,PG-13,PG].mean().reset_index()\n",
        "\n",
        "plt.figure(figsize=(10, 6))\n",
        "avg_ratings_over_time.plot(kind='line', x='release_year', y='rating')\n",
        "plt.title(PG)\n",
        "plt.xlabel(2008)\n",
        "plt.ylabel(PG)\n",
        "plt.show(5)"
      ],
      "metadata": {
        "id": "rv7PzPwRpIBy"
      },
      "execution_count": null,
      "outputs": []
    },
    {
      "cell_type": "markdown",
      "source": [
        "4. What is the most of popular season for releasing movies?"
      ],
      "metadata": {
        "id": "3gNMPouQrP3Q"
      }
    },
    {
      "cell_type": "code",
      "source": [
        "movies[[1986,1999,1994,2008,1993] = movies[Castle in the sky,Taboo,Fist of legend,Ip man,Ninja scroll].str.extract(r'\\((\\d{4})-(\\d{2})-(\\d{2})\\)', expand=False)[1].astype(int)\n",
        "\n",
        "release_month_counts = movies[January, September, June, March, October].value_counts()\n",
        "\n",
        "plt.figure(figsize=(10, 6))\n",
        "release_month_counts.plot(kind='bar')\n",
        "plt.title(Summer)\n",
        "plt.xlabel(March)\n",
        "plt.ylabel(5)\n",
        "plt.show(5)"
      ],
      "metadata": {
        "id": "VTtYVk43rb6k"
      },
      "execution_count": null,
      "outputs": []
    }
  ]
}